{
 "cells": [
  {
   "cell_type": "markdown",
   "metadata": {},
   "source": [
    "# EXERCÍCIOS\n",
    "\n",
    "1) Dado a classe `No`, implemente uma classe que representa uma `Fila`, uma classe que representa uma `Pilha` e uma classe que representa uma `Arvore`."
   ]
  },
  {
   "cell_type": "code",
   "execution_count": 107,
   "metadata": {},
   "outputs": [],
   "source": [
    "class No:\n",
    "    def __init__(self, dado=None, proximo=None):\n",
    "        self.dado = dado\n",
    "        self.proximo = proximo\n",
    "\n",
    "    def __str__(self):\n",
    "        return str(self.dado)"
   ]
  },
  {
   "cell_type": "markdown",
   "metadata": {},
   "source": [
    "## Fila\n",
    "\n",
    "Uma Fila deve conter as operações `insere(elemento)`, `remove`, `testa_vazia` e `to_list`.\n",
    "\n",
    "* `insere(elemento)` deve inserir o elemento no final da lista\n",
    "* `remove` deve remover o primeiro elemento da lista\n",
    "* `testa_vazia` deve retornar True ou False indicando se a fila está vazia\n",
    "* `to_list` deve retornar uma lista padrão Python que será usada nos testes implementados abaixo\n",
    "\n",
    "A Fila deve ter o atributo `tamanho`, que indica quantos elementos a fila possui."
   ]
  },
  {
   "cell_type": "code",
   "execution_count": 160,
   "metadata": {},
   "outputs": [],
   "source": [
    "class Fila:\n",
    "    pass\n",
    "    ## IMPLEMENTE"
   ]
  },
  {
   "cell_type": "code",
   "execution_count": 154,
   "metadata": {},
   "outputs": [],
   "source": [
    "fila = Fila()\n",
    "fila.insere(1)\n",
    "\n",
    "assert [1] == fila.to_list()\n",
    "assert 1 == fila.tamanho"
   ]
  },
  {
   "cell_type": "code",
   "execution_count": 155,
   "metadata": {},
   "outputs": [],
   "source": [
    "fila.insere(2)\n",
    "\n",
    "assert [1, 2] == fila.to_list()\n",
    "assert 2 == fila.tamanho"
   ]
  },
  {
   "cell_type": "code",
   "execution_count": 156,
   "metadata": {},
   "outputs": [],
   "source": [
    "fila.insere(3)\n",
    "\n",
    "assert [1, 2, 3] == fila.to_list()\n",
    "assert 3 == fila.tamanho"
   ]
  },
  {
   "cell_type": "code",
   "execution_count": 157,
   "metadata": {},
   "outputs": [],
   "source": [
    "fila.remove()\n",
    "\n",
    "assert [2, 3] == fila.to_list()\n",
    "assert 2 == fila.tamanho"
   ]
  },
  {
   "cell_type": "code",
   "execution_count": 158,
   "metadata": {},
   "outputs": [],
   "source": [
    "fila.remove()\n",
    "\n",
    "assert [3] == fila.to_list()\n",
    "assert 1 == fila.tamanho"
   ]
  },
  {
   "cell_type": "code",
   "execution_count": 159,
   "metadata": {},
   "outputs": [],
   "source": [
    "fila.remove()\n",
    "\n",
    "assert [] == fila.to_list()\n",
    "assert fila.testa_vazia()"
   ]
  },
  {
   "cell_type": "markdown",
   "metadata": {},
   "source": [
    "## Pilha\n",
    "\n",
    "Uma Pilha deve conter as operações `empilha(elemento)`, `desempilha`, `testa_vazia` e `to_list`.\n",
    "\n",
    "* `empilha(elemento)` deve inserir o elemento no topo da pilha\n",
    "* `desempilha` deve remover o elemento do topo da pilha\n",
    "* `testa_vazia` deve retornar True ou False indicando se a pilha está vazia\n",
    "* `to_list` deve retornar uma lista padrão Python que será usada nos testes implementados abaixo\n",
    "\n",
    "A Pilha deve ter o atributo `tamanho`, que indica quantos elementos a fila possui."
   ]
  },
  {
   "cell_type": "code",
   "execution_count": 161,
   "metadata": {},
   "outputs": [],
   "source": [
    "class Pilha:\n",
    "    pass\n",
    "    ## IMPLEMENTE"
   ]
  },
  {
   "cell_type": "code",
   "execution_count": 138,
   "metadata": {},
   "outputs": [],
   "source": [
    "pilha = Pilha()\n",
    "pilha.empilha(1)\n",
    "\n",
    "assert [1] == pilha.to_list()\n",
    "assert 1 == pilha.tamanho"
   ]
  },
  {
   "cell_type": "code",
   "execution_count": 139,
   "metadata": {},
   "outputs": [],
   "source": [
    "pilha.empilha(2)\n",
    "\n",
    "assert [1, 2] == pilha.to_list()\n",
    "assert 2 == pilha.tamanho"
   ]
  },
  {
   "cell_type": "code",
   "execution_count": 140,
   "metadata": {},
   "outputs": [],
   "source": [
    "pilha.empilha(3)\n",
    "\n",
    "assert [1, 2, 3] == pilha.to_list()\n",
    "assert 3 == pilha.tamanho"
   ]
  },
  {
   "cell_type": "code",
   "execution_count": 141,
   "metadata": {},
   "outputs": [],
   "source": [
    "assert 3 == pilha.desempilha()\n",
    "assert [1, 2] == pilha.to_list()\n",
    "assert 2 == pilha.tamanho"
   ]
  },
  {
   "cell_type": "code",
   "execution_count": 142,
   "metadata": {},
   "outputs": [],
   "source": [
    "pilha.empilha(5)\n",
    "\n",
    "assert [1, 2, 5] == pilha.to_list()\n",
    "assert 3 == pilha.tamanho"
   ]
  },
  {
   "cell_type": "code",
   "execution_count": 143,
   "metadata": {},
   "outputs": [],
   "source": [
    "assert 5 == pilha.desempilha()\n",
    "assert [1, 2] == pilha.to_list()\n",
    "assert 2 == pilha.tamanho"
   ]
  },
  {
   "cell_type": "code",
   "execution_count": 144,
   "metadata": {},
   "outputs": [],
   "source": [
    "assert 2 == pilha.desempilha()\n",
    "assert [1] == pilha.to_list()\n",
    "assert 1 == pilha.tamanho"
   ]
  },
  {
   "cell_type": "code",
   "execution_count": 145,
   "metadata": {},
   "outputs": [],
   "source": [
    "pilha.empilha(9)\n",
    "\n",
    "assert [1, 9] == pilha.to_list()\n",
    "assert 2 == pilha.tamanho"
   ]
  },
  {
   "cell_type": "markdown",
   "metadata": {},
   "source": [
    "## Árvore\n",
    "\n",
    "Dado a classe `No` e os exemplos acima para `Fila` e `Pilha`, implemente o mesmo para uma árvore :)"
   ]
  },
  {
   "cell_type": "code",
   "execution_count": null,
   "metadata": {},
   "outputs": [],
   "source": []
  }
 ],
 "metadata": {
  "kernelspec": {
   "display_name": "Python 3",
   "language": "python",
   "name": "python3"
  },
  "language_info": {
   "codemirror_mode": {
    "name": "ipython",
    "version": 3
   },
   "file_extension": ".py",
   "mimetype": "text/x-python",
   "name": "python",
   "nbconvert_exporter": "python",
   "pygments_lexer": "ipython3",
   "version": "3.6.2"
  }
 },
 "nbformat": 4,
 "nbformat_minor": 2
}
