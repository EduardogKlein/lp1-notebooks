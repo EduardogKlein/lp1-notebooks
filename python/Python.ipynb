{
 "cells": [
  {
   "cell_type": "markdown",
   "metadata": {},
   "source": [
    "# Programação em Python"
   ]
  },
  {
   "cell_type": "markdown",
   "metadata": {},
   "source": [
    "Este arquivo que estamos usando para aprender a programar em Python é escrito usando a ferramenta [Jupyter Lab](https://jupyter.org). A vantagem de usar Jupyter Notebooks ao invés de arquivos de texto é que podemos misturar texto formatado, imagens, código Python e visualiar a saída do código executado. \n",
    "\n",
    "Além de executar o Jupyter Lab nas nossas máquinas, também podemos acessar os notebooks através de outras ferramentas como o [Binder](https://mybinder.org) e o [Google Colab](https://colab.research.google.com).\n",
    "\n",
    "[![Binder](https://mybinder.org/badge.svg)](https://mybinder.org/v2/gh/catolicasc-joinville/lp1-notebooks/master)\n",
    "[![Google Colab](https://img.shields.io/badge/launch-google_colab_python-yellow.svg)](https://colab.research.google.com/github/catolicasc-joinville/lp1-notebooks/blob/master/python/introducao.ipynb)"
   ]
  },
  {
   "cell_type": "markdown",
   "metadata": {},
   "source": [
    "## Por que Python?\n",
    "\n",
    "Python foi criada por Guido Van Rossum. Python é uma linguagem dinâmica de auto nível, multi-paradigmas, interpretada e intuitiva, utilizada em vários domínios de aplicação. Sua popularidade deve-se principalmente a sua sintaxe limpa e legível, o que torna a linguagem de fácil utilização e possibilitando o rápido desenvolvimento de aplicações e protótipos. Por ser escrita em C, possibilita a fácil integração com bibliotecas escritas nesta linguagem para obter melhor desempenho. Possui também versões para as plataformas JVM e .NET através dos projetos Jython e IronPython.\n",
    "\n",
    "A linguagem recebe grande atenção da comunidade científica. Através de projetos como NumPy, SciPy, Tensorflow e Matplotlib, fornece uma coleção de bibliotecas e ferramentas de código aberto para computação científica nos mais diversos domínios.\n",
    "\n",
    "Pontos fortes:\n",
    "\n",
    "* Open Source\n",
    "* Propósito geral\n",
    "* Simplicidade\n",
    "* Multiplataforma\n",
    "* Biblioteca de módulos\n",
    "* Usada em diversas áreas\n",
    "    * Sistemas web\n",
    "    * Data science\n",
    "    * Engenharia\n",
    "* Comunidade forte\n",
    "\n",
    "Você pode acessar o console ([REPL](https://en.wikipedia.org/wiki/Read%E2%80%93eval%E2%80%93print_loop)) Python pelo seu terminal:\n",
    "\n",
    "\n",
    "![log](https://raw.githubusercontent.com/catolicasc-joinville/lp1-notebooks/master/python/assets/python-console.gif)"
   ]
  },
  {
   "cell_type": "markdown",
   "metadata": {},
   "source": [
    "## Referências\n",
    "\n",
    "A linguagem Python é muito bem documentada. Para conhecer mais acesse as documentações oficiais:\n",
    "\n",
    " * [Referência da linguagem Python](https://docs.python.org/3.7/reference)\n",
    " * [The Python Standard Library](https://docs.python.org/3.7/library)"
   ]
  },
  {
   "cell_type": "markdown",
   "metadata": {},
   "source": [
    "# MÓDULOS\n",
    "\n",
    "A maior parte da funcionalidade do Python é fornecida pelos seus módulos. A biblioteca padrão do Python é uma grande coleção de módulos que fornece implementações recursos comuns, como acesso ao sistema operacional, I/O de arquivos, estruturas de dados, servidores web, comunicação de rede e muito mais.\n",
    "\n",
    "Para usar um módulo em Python ele precisa ser importado. Deve ser feito usando a declaração de importação. Por exemplo, para importar o módulo [math](https://docs.python.org/3/library/math.html), que contém muitas funções matemáticas padrão, podemos fazer:"
   ]
  },
  {
   "cell_type": "code",
   "execution_count": 117,
   "metadata": {},
   "outputs": [],
   "source": [
    "import math"
   ]
  },
  {
   "cell_type": "markdown",
   "metadata": {},
   "source": [
    "Isso inclui todo o módulo e o disponibiliza para uso no programa."
   ]
  },
  {
   "cell_type": "code",
   "execution_count": 118,
   "metadata": {
    "collapsed": false
   },
   "outputs": [
    {
     "data": {
      "text/plain": [
       "1.0"
      ]
     },
     "execution_count": 118,
     "metadata": {},
     "output_type": "execute_result"
    }
   ],
   "source": [
    "import math\n",
    "\n",
    "x = math.cos(2 * math.pi)\n",
    "x"
   ]
  },
  {
   "cell_type": "markdown",
   "metadata": {},
   "source": [
    "Como alternativa, podemos importar todas funções e variáveis de um módulo para o [espaço de nomes](https://pt.wikipedia.org/wiki/Espa%C3%A7o_de_nomes) atual. Dessa forma, não precisemos usar o prefixo `math` sempre que usarmos algo do módulo:"
   ]
  },
  {
   "cell_type": "code",
   "execution_count": 119,
   "metadata": {
    "collapsed": false
   },
   "outputs": [
    {
     "data": {
      "text/plain": [
       "1.0"
      ]
     },
     "execution_count": 119,
     "metadata": {},
     "output_type": "execute_result"
    }
   ],
   "source": [
    "from math import *\n",
    "\n",
    "x = cos(2 * pi)\n",
    "x"
   ]
  },
  {
   "cell_type": "markdown",
   "metadata": {},
   "source": [
    "Esse padrão pode ser muito conveniente, mas em programas grandes que incluem muitos módulos, geralmente é uma boa ideia manter as funções, constantes e variáveis de cada módulo em seus próprios espaços de nomes, usando o padrão `import math`. Isso elimina problemas confusos com colisões de nomes.\n",
    "\n",
    "Como uma terceira alternativa, podemos optar por importar apenas alguns símbolos selecionados de um módulo, listando explicitamente quais queremos importar, em vez de usar o curinga `*`:"
   ]
  },
  {
   "cell_type": "code",
   "execution_count": 120,
   "metadata": {
    "collapsed": false
   },
   "outputs": [
    {
     "data": {
      "text/plain": [
       "1.0"
      ]
     },
     "execution_count": 120,
     "metadata": {},
     "output_type": "execute_result"
    }
   ],
   "source": [
    "from math import cos, pi\n",
    "\n",
    "x = cos(2 * pi)\n",
    "x"
   ]
  },
  {
   "cell_type": "markdown",
   "metadata": {},
   "source": [
    "## Documentação"
   ]
  },
  {
   "cell_type": "markdown",
   "metadata": {},
   "source": [
    "Quando um módulo é importado, podemos listar as funções, constantes e variáveis que ele fornece usando a função [dir](https://docs.python.org/2/library/functions.html#dir):"
   ]
  },
  {
   "cell_type": "code",
   "execution_count": 121,
   "metadata": {
    "collapsed": false
   },
   "outputs": [
    {
     "name": "stdout",
     "output_type": "stream",
     "text": [
      "['__doc__', '__file__', '__loader__', '__name__', '__package__', '__spec__', 'acos', 'acosh', 'asin', 'asinh', 'atan', 'atan2', 'atanh', 'ceil', 'copysign', 'cos', 'cosh', 'degrees', 'e', 'erf', 'erfc', 'exp', 'expm1', 'fabs', 'factorial', 'floor', 'fmod', 'frexp', 'fsum', 'gamma', 'gcd', 'hypot', 'inf', 'isclose', 'isfinite', 'isinf', 'isnan', 'ldexp', 'lgamma', 'log', 'log10', 'log1p', 'log2', 'modf', 'nan', 'pi', 'pow', 'radians', 'sin', 'sinh', 'sqrt', 'tan', 'tanh', 'tau', 'trunc']\n"
     ]
    }
   ],
   "source": [
    "import math\n",
    "\n",
    "print(dir(math))"
   ]
  },
  {
   "cell_type": "markdown",
   "metadata": {},
   "source": [
    "Podemos então usar alguma função do nosso interesse, como por exemplo a função `log` que tem a seguinte estrutura:\n",
    "\n",
    "![log](http://raw.githubusercontent.com/catolicasc-joinville/lp1-notebooks/master/python/assets/log10.png)"
   ]
  },
  {
   "cell_type": "code",
   "execution_count": 122,
   "metadata": {
    "collapsed": false
   },
   "outputs": [
    {
     "data": {
      "text/plain": [
       "2.302585092994046"
      ]
     },
     "execution_count": 122,
     "metadata": {},
     "output_type": "execute_result"
    }
   ],
   "source": [
    "math.log(10)"
   ]
  },
  {
   "cell_type": "markdown",
   "metadata": {},
   "source": [
    "Esta função aceita dois argumentos, sendo um deles (`base`) opcional.\n",
    "\n",
    "![log](http://raw.githubusercontent.com/catolicasc-joinville/lp1-notebooks/master/python/assets/log102.png)"
   ]
  },
  {
   "cell_type": "code",
   "execution_count": 123,
   "metadata": {
    "collapsed": false
   },
   "outputs": [
    {
     "data": {
      "text/plain": [
       "3.3219280948873626"
      ]
     },
     "execution_count": 123,
     "metadata": {},
     "output_type": "execute_result"
    }
   ],
   "source": [
    "math.log(10, 2)"
   ]
  },
  {
   "cell_type": "markdown",
   "metadata": {},
   "source": [
    "Usando a função [help](https://docs.python.org/2/library/functions.html#help) podemos obter uma descrição de cada função:"
   ]
  },
  {
   "cell_type": "code",
   "execution_count": 124,
   "metadata": {
    "collapsed": false
   },
   "outputs": [
    {
     "name": "stdout",
     "output_type": "stream",
     "text": [
      "Help on built-in function log in module math:\n",
      "\n",
      "log(...)\n",
      "    log(x[, base])\n",
      "    \n",
      "    Return the logarithm of x to the given base.\n",
      "    If the base not specified, returns the natural logarithm (base e) of x.\n",
      "\n"
     ]
    }
   ],
   "source": [
    "help(math.log)"
   ]
  },
  {
   "cell_type": "markdown",
   "metadata": {},
   "source": [
    "![log](http://raw.githubusercontent.com/catolicasc-joinville/lp1-notebooks/master/python/assets/help-log.png)\n",
    "\n",
    "Acesse a lista padrão de módulos Python na documentação da [biblioteca padrão da linguagem Python](http://docs.python.org/3/library).\n",
    "\n",
    "## [EXERCÍCIOS] Módulos\n",
    "\n",
    "1) Após importar o módulo [math](http://docs.python.org/3/library/math.html) calcule:\n",
    "\n",
    "* `x = cos(pi/2) + sin(pi/2)`\n",
    "* `x = √3`\n",
    "* `x = log2 10`"
   ]
  },
  {
   "cell_type": "code",
   "execution_count": null,
   "metadata": {},
   "outputs": [],
   "source": []
  },
  {
   "cell_type": "markdown",
   "metadata": {},
   "source": [
    "2) Importe o módulo `calendar` e descubra:\n",
    "\n",
    "* 2018 é um ano bissexto (leap year)?\n",
    "* Dia 22 de Maio de 1992 foi que dia da semana?\n",
    "* O mês de Julho de 2000 começou em que dia da semana?"
   ]
  },
  {
   "cell_type": "code",
   "execution_count": null,
   "metadata": {},
   "outputs": [],
   "source": []
  },
  {
   "cell_type": "markdown",
   "metadata": {},
   "source": [
    "# VARIÁVEIS"
   ]
  },
  {
   "cell_type": "markdown",
   "metadata": {},
   "source": [
    "Os nomes de variáveis em Python podem conter caracteres alfanuméricos `a-z`, `A-Z`, `0-9` e alguns caracteres especiais, como `_`. Os nomes das variáveis devem começar com uma letra. Por convenção, os nomes das variáveis começam com uma letra minúscula e os nomes das classes começam com uma letra maiúscula. Além disso, há várias palavras-chave do Python que não podem ser usadas como nomes de variáveis. Essas palavras-chave são:\n",
    "\n",
    "```python\n",
    "and, as, assert, break, class, continue, def, del, elif, else, except, \n",
    "exec, finally, for, from, global, if, import, in, is, lambda, not, or,\n",
    "pass, print, raise, return, try, while, with, yield\n",
    "```"
   ]
  },
  {
   "cell_type": "markdown",
   "metadata": {},
   "source": [
    "O operador de atribuição no Python é =. O Python é uma [linguagem com tipagem dinâmica](https://pt.wikipedia.org/wiki/Sistema_de_tipos). Dessa forma não precisamos especificar o tipo de uma variável quando criamos uma.\n",
    "\n",
    "Criando uma variável:"
   ]
  },
  {
   "cell_type": "code",
   "execution_count": 125,
   "metadata": {
    "collapsed": false
   },
   "outputs": [
    {
     "name": "stdout",
     "output_type": "stream",
     "text": [
      "1.0\n"
     ]
    }
   ],
   "source": [
    "x = 1.0\n",
    "print(x)"
   ]
  },
  {
   "cell_type": "markdown",
   "metadata": {},
   "source": [
    "Se tentarmos usar uma variável que ainda não tenha sido definida, obteremos uma [exceção](https://pt.wikipedia.org/wiki/Tratamento_de_exce%C3%A7%C3%A3o) do tipo `NameError`:"
   ]
  },
  {
   "cell_type": "code",
   "execution_count": 126,
   "metadata": {
    "collapsed": false
   },
   "outputs": [
    {
     "ename": "NameError",
     "evalue": "name 'y' is not defined",
     "output_type": "error",
     "traceback": [
      "\u001b[0;31m-----------------------------------------------\u001b[0m",
      "\u001b[0;31mNameError\u001b[0m     Traceback (most recent call last)",
      "\u001b[0;32m<ipython-input-126-d9183e048de3>\u001b[0m in \u001b[0;36m<module>\u001b[0;34m()\u001b[0m\n\u001b[0;32m----> 1\u001b[0;31m \u001b[0mprint\u001b[0m\u001b[0;34m(\u001b[0m\u001b[0my\u001b[0m\u001b[0;34m)\u001b[0m\u001b[0;34m\u001b[0m\u001b[0m\n\u001b[0m",
      "\u001b[0;31mNameError\u001b[0m: name 'y' is not defined"
     ]
    }
   ],
   "source": [
    "print(y)"
   ]
  },
  {
   "cell_type": "markdown",
   "metadata": {},
   "source": [
    "# TIPOS"
   ]
  },
  {
   "cell_type": "markdown",
   "metadata": {},
   "source": [
    "Embora não seja explicitamente especificado, uma variável tem um tipo associado a ela. O tipo é derivado do valor que foi designado a ele. Podemos verificar o tipo de uma variável com a função [type](https://docs.python.org/2/library/stdtypes.html):"
   ]
  },
  {
   "cell_type": "code",
   "execution_count": 127,
   "metadata": {
    "collapsed": false
   },
   "outputs": [
    {
     "data": {
      "text/plain": [
       "int"
      ]
     },
     "execution_count": 127,
     "metadata": {},
     "output_type": "execute_result"
    }
   ],
   "source": [
    "x = 1\n",
    "type(x)"
   ]
  },
  {
   "cell_type": "markdown",
   "metadata": {},
   "source": [
    "Python possui os tipos fundamentais inteiros, ponto flutuante, booleanos e complexos:"
   ]
  },
  {
   "cell_type": "code",
   "execution_count": 128,
   "metadata": {
    "collapsed": false
   },
   "outputs": [
    {
     "name": "stdout",
     "output_type": "stream",
     "text": [
      "1 <class 'int'>\n"
     ]
    }
   ],
   "source": [
    "x = 1\n",
    "print(x, type(x))"
   ]
  },
  {
   "cell_type": "code",
   "execution_count": 129,
   "metadata": {
    "collapsed": false
   },
   "outputs": [
    {
     "name": "stdout",
     "output_type": "stream",
     "text": [
      "1.0 <class 'float'>\n"
     ]
    }
   ],
   "source": [
    "x = 1.0\n",
    "print(x, type(x))"
   ]
  },
  {
   "cell_type": "code",
   "execution_count": 130,
   "metadata": {
    "collapsed": false
   },
   "outputs": [
    {
     "name": "stdout",
     "output_type": "stream",
     "text": [
      "True <class 'bool'>\n"
     ]
    }
   ],
   "source": [
    "x = True\n",
    "print(x, type(x))"
   ]
  },
  {
   "cell_type": "code",
   "execution_count": 131,
   "metadata": {
    "collapsed": false
   },
   "outputs": [
    {
     "name": "stdout",
     "output_type": "stream",
     "text": [
      "(1-1j) <class 'complex'>\n"
     ]
    }
   ],
   "source": [
    "# números complexos: observe o uso de `j` para especificar a parte imaginária\n",
    "x = 1.0 - 1.0j\n",
    "print(x, type(x))"
   ]
  },
  {
   "cell_type": "code",
   "execution_count": 132,
   "metadata": {
    "collapsed": false
   },
   "outputs": [
    {
     "name": "stdout",
     "output_type": "stream",
     "text": [
      "1.0 -1.0\n"
     ]
    }
   ],
   "source": [
    "print(x.real, x.imag)"
   ]
  },
  {
   "cell_type": "markdown",
   "metadata": {},
   "source": [
    "### Testando tipos\n",
    "\n",
    "Para testar se uma variável é de um determinado tipo podemos usar a `função` type:"
   ]
  },
  {
   "cell_type": "code",
   "execution_count": 133,
   "metadata": {
    "collapsed": false
   },
   "outputs": [
    {
     "data": {
      "text/plain": [
       "True"
      ]
     },
     "execution_count": 133,
     "metadata": {},
     "output_type": "execute_result"
    }
   ],
   "source": [
    "x = 1.0\n",
    "type(x) is float"
   ]
  },
  {
   "cell_type": "code",
   "execution_count": 134,
   "metadata": {
    "collapsed": false
   },
   "outputs": [
    {
     "data": {
      "text/plain": [
       "False"
      ]
     },
     "execution_count": 134,
     "metadata": {},
     "output_type": "execute_result"
    }
   ],
   "source": [
    "type(x) is int"
   ]
  },
  {
   "cell_type": "markdown",
   "metadata": {},
   "source": [
    "Nós também podemos usar a função `isinstance` para testar tipos de variáveis:"
   ]
  },
  {
   "cell_type": "code",
   "execution_count": 135,
   "metadata": {
    "collapsed": false
   },
   "outputs": [
    {
     "data": {
      "text/plain": [
       "True"
      ]
     },
     "execution_count": 135,
     "metadata": {},
     "output_type": "execute_result"
    }
   ],
   "source": [
    "isinstance(x, float)"
   ]
  },
  {
   "cell_type": "markdown",
   "metadata": {},
   "source": [
    "## [EXERCÍCIOS] Variáveis e tipos\n",
    "\n",
    "1) Defina as variáveis `x = 1`, `y = 2.3` e `z = x+y`. Qual o tipo de `x`, `y` e `z`?"
   ]
  },
  {
   "cell_type": "code",
   "execution_count": null,
   "metadata": {},
   "outputs": [],
   "source": []
  },
  {
   "cell_type": "markdown",
   "metadata": {},
   "source": [
    "2) Defina as variáveis `x = 1`, `y = 4` e `z = x/y`. Qual o valor de `z`?"
   ]
  },
  {
   "cell_type": "code",
   "execution_count": null,
   "metadata": {},
   "outputs": [],
   "source": []
  },
  {
   "cell_type": "markdown",
   "metadata": {},
   "source": [
    "3) Defina as variáveis `x = 1.0`, `y = 4` e `z = x/y`. Qual o valor de `z`?"
   ]
  },
  {
   "cell_type": "code",
   "execution_count": null,
   "metadata": {},
   "outputs": [],
   "source": []
  },
  {
   "cell_type": "markdown",
   "metadata": {},
   "source": [
    "4) Calcule seu [Índice de Massa Corporal (IMC)](https://pt.wikipedia.org/wiki/%C3%8Dndice_de_massa_corporal).\n",
    "\n",
    "$\n",
    "\\begin{equation} \n",
    "IMC = \\frac{peso}{altura^2}\n",
    "\\end{equation}\n",
    "$"
   ]
  },
  {
   "cell_type": "code",
   "execution_count": null,
   "metadata": {},
   "outputs": [],
   "source": []
  },
  {
   "cell_type": "markdown",
   "metadata": {},
   "source": [
    "# OPERADORES\n",
    "\n",
    "A maioria dos operadores no Python funcionam como em outras linguagens:\n",
    "\n",
    "* `+` soma\n",
    "* `-` subtração\n",
    "* `*` multiplicação\n",
    "* `/` divisão\n",
    "* `//` divisão inteira\n",
    "* `**` potência"
   ]
  },
  {
   "cell_type": "code",
   "execution_count": 136,
   "metadata": {
    "collapsed": false
   },
   "outputs": [
    {
     "data": {
      "text/plain": [
       "(3, -1, 2, 0.5)"
      ]
     },
     "execution_count": 136,
     "metadata": {},
     "output_type": "execute_result"
    }
   ],
   "source": [
    "1 + 2, 1 - 2, 1 * 2, 1 / 2"
   ]
  },
  {
   "cell_type": "code",
   "execution_count": 137,
   "metadata": {
    "collapsed": false
   },
   "outputs": [
    {
     "data": {
      "text/plain": [
       "(3.0, -1.0, 2.0, 0.5)"
      ]
     },
     "execution_count": 137,
     "metadata": {},
     "output_type": "execute_result"
    }
   ],
   "source": [
    "1.0 + 2.0, 1.0 - 2.0, 1.0 * 2.0, 1.0 / 2.0"
   ]
  },
  {
   "cell_type": "markdown",
   "metadata": {},
   "source": [
    "O operador `/` sempre executa uma divisão de ponto flutuante no Python 3.x"
   ]
  },
  {
   "cell_type": "code",
   "execution_count": 138,
   "metadata": {
    "collapsed": false
   },
   "outputs": [
    {
     "data": {
      "text/plain": [
       "1.0"
      ]
     },
     "execution_count": 138,
     "metadata": {},
     "output_type": "execute_result"
    }
   ],
   "source": [
    "3.0 // 2.0 # Divisão inteira de números flutuantes"
   ]
  },
  {
   "cell_type": "code",
   "execution_count": 139,
   "metadata": {
    "collapsed": false
   },
   "outputs": [
    {
     "data": {
      "text/plain": [
       "4"
      ]
     },
     "execution_count": 139,
     "metadata": {},
     "output_type": "execute_result"
    }
   ],
   "source": [
    "2 ** 2 # O operador de potência em Python não é ^, mas sim **"
   ]
  },
  {
   "cell_type": "markdown",
   "metadata": {},
   "source": [
    "Os operadores booleanos são:\n",
    "\n",
    "* `and` similar ao `&&` em outras linguagens\n",
    "* `not` similar ao `!` em outras linguagens\n",
    "* `or` similar ao `||` em outras linguagens"
   ]
  },
  {
   "cell_type": "code",
   "execution_count": 140,
   "metadata": {
    "collapsed": false
   },
   "outputs": [
    {
     "data": {
      "text/plain": [
       "False"
      ]
     },
     "execution_count": 140,
     "metadata": {},
     "output_type": "execute_result"
    }
   ],
   "source": [
    "True and False"
   ]
  },
  {
   "cell_type": "code",
   "execution_count": 141,
   "metadata": {
    "collapsed": false
   },
   "outputs": [
    {
     "data": {
      "text/plain": [
       "True"
      ]
     },
     "execution_count": 141,
     "metadata": {},
     "output_type": "execute_result"
    }
   ],
   "source": [
    "not False"
   ]
  },
  {
   "cell_type": "code",
   "execution_count": 142,
   "metadata": {
    "collapsed": false
   },
   "outputs": [
    {
     "data": {
      "text/plain": [
       "True"
      ]
     },
     "execution_count": 142,
     "metadata": {},
     "output_type": "execute_result"
    }
   ],
   "source": [
    "True or False"
   ]
  },
  {
   "cell_type": "markdown",
   "metadata": {},
   "source": [
    "# OPERADORES DE COMPARAÇÃO\n",
    "\n",
    "A maioria dos operadores de comparação no Python funcionam como em outras linguagens:\n",
    "\n",
    "* `>` maior que\n",
    "* `<` menor que\n",
    "* `>=` maior ou igual que\n",
    "* `<=` menor ou igual que\n",
    "* `==` igual\n",
    "* `!=` diferente\n",
    "* `is` é, comparação de objetos"
   ]
  },
  {
   "cell_type": "code",
   "execution_count": 143,
   "metadata": {
    "collapsed": false
   },
   "outputs": [
    {
     "data": {
      "text/plain": [
       "(True, False)"
      ]
     },
     "execution_count": 143,
     "metadata": {},
     "output_type": "execute_result"
    }
   ],
   "source": [
    "2 > 1, 2 < 1"
   ]
  },
  {
   "cell_type": "code",
   "execution_count": 144,
   "metadata": {
    "collapsed": false
   },
   "outputs": [
    {
     "data": {
      "text/plain": [
       "(False, False)"
      ]
     },
     "execution_count": 144,
     "metadata": {},
     "output_type": "execute_result"
    }
   ],
   "source": [
    "2 > 2, 2 < 2"
   ]
  },
  {
   "cell_type": "code",
   "execution_count": 145,
   "metadata": {
    "collapsed": false
   },
   "outputs": [
    {
     "data": {
      "text/plain": [
       "(True, True)"
      ]
     },
     "execution_count": 145,
     "metadata": {},
     "output_type": "execute_result"
    }
   ],
   "source": [
    "2 >= 2, 2 <= 2"
   ]
  },
  {
   "cell_type": "code",
   "execution_count": 146,
   "metadata": {
    "collapsed": false
   },
   "outputs": [
    {
     "data": {
      "text/plain": [
       "(True, False)"
      ]
     },
     "execution_count": 146,
     "metadata": {},
     "output_type": "execute_result"
    }
   ],
   "source": [
    "1 == 1, 1 == 2"
   ]
  },
  {
   "cell_type": "markdown",
   "metadata": {},
   "source": [
    "## [EXERCÍCIOS] Operadores e Comparações\n",
    "\n",
    "1) Defina a variável `x = 7`:\n",
    "* `x * 2` é maior que `10`?\n",
    "* `x / 3` é menor que `5`?\n",
    "* `x` ao quadrado é igual a `49`?"
   ]
  },
  {
   "cell_type": "code",
   "execution_count": null,
   "metadata": {},
   "outputs": [],
   "source": []
  },
  {
   "cell_type": "markdown",
   "metadata": {},
   "source": [
    "2) Defina a variável `y = 3`:\n",
    "* `y` é menor que `10` e `x` é maior que `10`?\n",
    "* `y` é maior ou igual a `3` ou `x` é igual a `8`?\n",
    "* `y` não é igual a `4`?"
   ]
  },
  {
   "cell_type": "code",
   "execution_count": null,
   "metadata": {},
   "outputs": [],
   "source": []
  },
  {
   "cell_type": "markdown",
   "metadata": {},
   "source": [
    "3) Verifique se seu [Índice de Massa Corporal (IMC)](https://pt.wikipedia.org/wiki/%C3%8Dndice_de_massa_corporal) está dentro do padrão recomendado pela OMS:\n",
    "\n",
    "<table>\n",
    "<thead>\n",
    "<tr class=\"header\">\n",
    "<th><p>IMC</p></th>\n",
    "<th><p>Classificação do IMC</p></th>\n",
    "</tr>\n",
    "</thead>\n",
    "<tbody>\n",
    "<tr class=\"odd\">\n",
    "<td><p>&lt; 16</p></td>\n",
    "<td><p>Magreza grave</p></td>\n",
    "</tr>\n",
    "<tr class=\"even\">\n",
    "<td><p>16 a &lt; 17</p></td>\n",
    "<td><p>Magreza moderada</p></td>\n",
    "</tr>\n",
    "<tr class=\"odd\">\n",
    "<td><p>17 a &lt; 18,5</p></td>\n",
    "<td><p>Magreza leve</p></td>\n",
    "</tr>\n",
    "<tr class=\"even\">\n",
    "<td><p>18,5 a &lt; 25</p></td>\n",
    "<td><p>Saudável</p></td>\n",
    "</tr>\n",
    "<tr class=\"odd\">\n",
    "<td><p>25 a &lt; 30</p></td>\n",
    "<td><p>Sobrepeso</p></td>\n",
    "</tr>\n",
    "<tr class=\"even\">\n",
    "<td><p>30 a &lt; 35</p></td>\n",
    "<td><p>Obesidade Grau I</p></td>\n",
    "</tr>\n",
    "<tr class=\"odd\">\n",
    "<td><p>35 a &lt; 40</p></td>\n",
    "<td><p>Obesidade Grau II (severa)</p></td>\n",
    "</tr>\n",
    "<tr class=\"even\">\n",
    "<td><p>&gt; 40</p></td>\n",
    "<td><p>Obesidade Grau III (mórbida)</p></td>\n",
    "</tr>\n",
    "</tbody>\n",
    "</table>"
   ]
  },
  {
   "cell_type": "code",
   "execution_count": null,
   "metadata": {},
   "outputs": [],
   "source": []
  },
  {
   "cell_type": "markdown",
   "metadata": {},
   "source": [
    "# TIPOS COMPLEXOS\n",
    "\n",
    "Python possui alguns tipos complexos como strings, listas e dicionários."
   ]
  },
  {
   "cell_type": "markdown",
   "metadata": {},
   "source": [
    "# STRINGS"
   ]
  },
  {
   "cell_type": "markdown",
   "metadata": {},
   "source": [
    "[Strings](https://docs.python.org/3/library/string.html) são o tipo de variável usado para armazenar mensagens de texto. A linguagem Python possui um conjunto muito rico de funções para processamento de texto. Consulte a [documentação](https://docs.python.org/3/library/string.html) da linguagem para mais detalhes."
   ]
  },
  {
   "cell_type": "code",
   "execution_count": 44,
   "metadata": {
    "collapsed": false
   },
   "outputs": [
    {
     "data": {
      "text/plain": [
       "str"
      ]
     },
     "execution_count": 44,
     "metadata": {},
     "output_type": "execute_result"
    }
   ],
   "source": [
    "s = \"Olá, mundo!\"\n",
    "type(s)"
   ]
  },
  {
   "cell_type": "markdown",
   "metadata": {},
   "source": [
    "Podemos obter o comprimento da string (o número de caracteres) usando:"
   ]
  },
  {
   "cell_type": "code",
   "execution_count": 4,
   "metadata": {},
   "outputs": [
    {
     "data": {
      "text/plain": [
       "11"
      ]
     },
     "execution_count": 4,
     "metadata": {},
     "output_type": "execute_result"
    }
   ],
   "source": [
    "len(s)"
   ]
  },
  {
   "cell_type": "markdown",
   "metadata": {},
   "source": [
    "Para substituir uma substring em uma string por outro valor use `replace`:"
   ]
  },
  {
   "cell_type": "code",
   "execution_count": 5,
   "metadata": {},
   "outputs": [
    {
     "name": "stdout",
     "output_type": "stream",
     "text": [
      "Olá, sol!\n"
     ]
    }
   ],
   "source": [
    "s2 = s.replace(\"mundo\", \"sol\")\n",
    "print(s2)"
   ]
  },
  {
   "cell_type": "markdown",
   "metadata": {},
   "source": [
    "Podemos acessar um caractere no seu índice em uma string usando `[]`.\n",
    "\n",
    "![python-string-index](http://raw.githubusercontent.com/catolicasc-joinville/lp1-notebooks/master/python/assets/python-string-index.png)"
   ]
  },
  {
   "cell_type": "code",
   "execution_count": 45,
   "metadata": {
    "collapsed": false
   },
   "outputs": [
    {
     "data": {
      "text/plain": [
       "('O', ' ', '!')"
      ]
     },
     "execution_count": 45,
     "metadata": {},
     "output_type": "execute_result"
    }
   ],
   "source": [
    "s[0], s[4], s[10]"
   ]
  },
  {
   "cell_type": "markdown",
   "metadata": {},
   "source": [
    "Em Python podemos usar índices reversos para buscar caracteres em strings de trás para frente:\n",
    "\n",
    "![python-string-index-2](http://raw.githubusercontent.com/catolicasc-joinville/lp1-notebooks/master/python/assets/python-string-index-2.png)"
   ]
  },
  {
   "cell_type": "code",
   "execution_count": 46,
   "metadata": {},
   "outputs": [
    {
     "data": {
      "text/plain": [
       "'!'"
      ]
     },
     "execution_count": 46,
     "metadata": {},
     "output_type": "execute_result"
    }
   ],
   "source": [
    "s[-1]"
   ]
  },
  {
   "cell_type": "markdown",
   "metadata": {},
   "source": [
    "Podemos extrair uma parte de uma string usando a sintaxe `[começo:fim]`, que extrai caracteres entre o início do índice, `começo` e o `fim`. O começo é inclusivo e o fim exclusivo."
   ]
  },
  {
   "cell_type": "markdown",
   "metadata": {},
   "source": [
    "![python-string-slice-1](http://raw.githubusercontent.com/catolicasc-joinville/lp1-notebooks/master/python/assets/python-string-slice-1.png)"
   ]
  },
  {
   "cell_type": "code",
   "execution_count": 7,
   "metadata": {
    "collapsed": false
   },
   "outputs": [
    {
     "data": {
      "text/plain": [
       "'Olá, '"
      ]
     },
     "execution_count": 7,
     "metadata": {},
     "output_type": "execute_result"
    }
   ],
   "source": [
    "s[0:5]"
   ]
  },
  {
   "cell_type": "code",
   "execution_count": 8,
   "metadata": {
    "collapsed": false
   },
   "outputs": [
    {
     "data": {
      "text/plain": [
       "'á'"
      ]
     },
     "execution_count": 8,
     "metadata": {},
     "output_type": "execute_result"
    }
   ],
   "source": [
    "s[2:3]"
   ]
  },
  {
   "cell_type": "markdown",
   "metadata": {},
   "source": [
    "Se omitirmos `começo` o padrão é o começo da string, e se omitirmos `fim` o padrão será o fim da string. Se omitirmos os dois, será do começo ao fim.\n",
    "\n",
    "![python-string-slice-2](http://raw.githubusercontent.com/catolicasc-joinville/lp1-notebooks/master/python/assets/python-string-slice-2.png)"
   ]
  },
  {
   "cell_type": "code",
   "execution_count": 9,
   "metadata": {
    "collapsed": false
   },
   "outputs": [
    {
     "data": {
      "text/plain": [
       "'Olá, '"
      ]
     },
     "execution_count": 9,
     "metadata": {},
     "output_type": "execute_result"
    }
   ],
   "source": [
    "s[:5]"
   ]
  },
  {
   "cell_type": "markdown",
   "metadata": {},
   "source": [
    "![python-string-slice-3](http://raw.githubusercontent.com/catolicasc-joinville/lp1-notebooks/master/python/assets/python-string-slice-3.png)"
   ]
  },
  {
   "cell_type": "code",
   "execution_count": 12,
   "metadata": {
    "collapsed": false
   },
   "outputs": [
    {
     "data": {
      "text/plain": [
       "'mundo!'"
      ]
     },
     "execution_count": 12,
     "metadata": {},
     "output_type": "execute_result"
    }
   ],
   "source": [
    "s[5:]"
   ]
  },
  {
   "cell_type": "code",
   "execution_count": 13,
   "metadata": {
    "collapsed": false
   },
   "outputs": [
    {
     "data": {
      "text/plain": [
       "'Olá, mundo!'"
      ]
     },
     "execution_count": 13,
     "metadata": {},
     "output_type": "execute_result"
    }
   ],
   "source": [
    "s[:]"
   ]
  },
  {
   "cell_type": "markdown",
   "metadata": {},
   "source": [
    "Também podemos definir o tamanho do passo usando a sintaxe `[começo:fim:passo]`. O valor padrão para `passo` é `1`.\n",
    "\n",
    "![python-string-slice-3](http://raw.githubusercontent.com/catolicasc-joinville/lp1-notebooks/master/python/assets/python-string-slice-4.png)"
   ]
  },
  {
   "cell_type": "code",
   "execution_count": 14,
   "metadata": {
    "collapsed": false
   },
   "outputs": [
    {
     "data": {
      "text/plain": [
       "'Olá, mundo!'"
      ]
     },
     "execution_count": 14,
     "metadata": {},
     "output_type": "execute_result"
    }
   ],
   "source": [
    "s[::1]"
   ]
  },
  {
   "cell_type": "markdown",
   "metadata": {},
   "source": [
    "Com o valor do `passo` sendo `2`:\n",
    "\n",
    "![python-string-slice-5](http://raw.githubusercontent.com/catolicasc-joinville/lp1-notebooks/master/python/assets/python-string-slice-5.png)"
   ]
  },
  {
   "cell_type": "code",
   "execution_count": 47,
   "metadata": {
    "collapsed": false
   },
   "outputs": [
    {
     "data": {
      "text/plain": [
       "'Oá ud!'"
      ]
     },
     "execution_count": 47,
     "metadata": {},
     "output_type": "execute_result"
    }
   ],
   "source": [
    "s[::2]"
   ]
  },
  {
   "cell_type": "markdown",
   "metadata": {},
   "source": [
    "Essa técnica é chamada de [slicing](https://docs.python.org/release/3.7.0/library/functions.html?highlight=slice#slice). Consulte a [documentação](https://docs.python.org/release/3.7.0/library/functions.html?highlight=slice#slice) do Python para mais detalhes. "
   ]
  },
  {
   "cell_type": "markdown",
   "metadata": {},
   "source": [
    "## Formatação de Strings\n",
    "\n",
    "A linguagem Python fornece métodos e funções muito poderosas para formatação de Strings. A função `print`, usada para imprimir um valor no terminal, é capaz de receber diversos parâmetros:"
   ]
  },
  {
   "cell_type": "code",
   "execution_count": 18,
   "metadata": {
    "collapsed": false
   },
   "outputs": [
    {
     "name": "stdout",
     "output_type": "stream",
     "text": [
      "string 1 string 2 string 3\n"
     ]
    }
   ],
   "source": [
    "print(\"string 1\", \"string 2\", \"string 3\")"
   ]
  },
  {
   "cell_type": "markdown",
   "metadata": {},
   "source": [
    "A função `print` converte todos os seus argumentos para o tipo `String`."
   ]
  },
  {
   "cell_type": "code",
   "execution_count": 20,
   "metadata": {
    "collapsed": false
   },
   "outputs": [
    {
     "name": "stdout",
     "output_type": "stream",
     "text": [
      "string 1 1.0 False (-0-1j)\n"
     ]
    }
   ],
   "source": [
    "print(\"string 1\", 1.0, False, -1j)"
   ]
  },
  {
   "cell_type": "markdown",
   "metadata": {},
   "source": [
    "Python suporta a formatação de strings no estilo da linguagem C:"
   ]
  },
  {
   "cell_type": "code",
   "execution_count": 23,
   "metadata": {
    "collapsed": false
   },
   "outputs": [
    {
     "name": "stdout",
     "output_type": "stream",
     "text": [
      "valor 1 = 3.14. valor 2 = 1\n"
     ]
    }
   ],
   "source": [
    "s = \"valor 1 = %.2f. valor 2 = %d\" % (3.1415, 1.5)\n",
    "\n",
    "print(s)"
   ]
  },
  {
   "cell_type": "markdown",
   "metadata": {},
   "source": [
    "Podemos também formatar strings usando o método `format`:"
   ]
  },
  {
   "cell_type": "code",
   "execution_count": 32,
   "metadata": {
    "collapsed": false
   },
   "outputs": [
    {
     "name": "stdout",
     "output_type": "stream",
     "text": [
      "valor 1 = 3.1415, valor 2 = 1.5\n"
     ]
    }
   ],
   "source": [
    "s = \"valor 1 = {0}, valor 2 = {1}\".format(3.1415, 1.5)\n",
    "\n",
    "print(s)"
   ]
  },
  {
   "cell_type": "markdown",
   "metadata": {},
   "source": [
    "Neste formato podemos criar atributos nomeados:"
   ]
  },
  {
   "cell_type": "code",
   "execution_count": 33,
   "metadata": {},
   "outputs": [
    {
     "name": "stdout",
     "output_type": "stream",
     "text": [
      "primeiro = 3.1415, segundo = 1.5\n"
     ]
    }
   ],
   "source": [
    "s = \"primeiro = {primeiro}, segundo = {segundo}\".format(primeiro=3.1415, segundo=1.5)\n",
    "\n",
    "print(s)"
   ]
  },
  {
   "cell_type": "markdown",
   "metadata": {},
   "source": [
    "Na versão 3.6 da linguagem foi introduzida uma nova forma de realizar a formatação de strings que suporta a interpolação de variáveis. São as `f-strings`:"
   ]
  },
  {
   "cell_type": "code",
   "execution_count": 34,
   "metadata": {},
   "outputs": [
    {
     "name": "stdout",
     "output_type": "stream",
     "text": [
      "primeiro = 3.1415, segundo = 1.5\n"
     ]
    }
   ],
   "source": [
    "primeiro = 3.1415\n",
    "segundo = 1.5\n",
    "s = f\"primeiro = {primeiro}, segundo = {segundo}\"\n",
    "\n",
    "print(s)"
   ]
  },
  {
   "cell_type": "markdown",
   "metadata": {},
   "source": [
    "As strings em Python suportam diversos métodos para formatações úteis:"
   ]
  },
  {
   "cell_type": "code",
   "execution_count": 38,
   "metadata": {},
   "outputs": [
    {
     "data": {
      "text/plain": [
       "('TESTE', 'teste')"
      ]
     },
     "execution_count": 38,
     "metadata": {},
     "output_type": "execute_result"
    }
   ],
   "source": [
    "s = \"Teste\"\n",
    "(s.upper(), s.lower())"
   ]
  },
  {
   "cell_type": "code",
   "execution_count": 48,
   "metadata": {},
   "outputs": [
    {
     "data": {
      "text/plain": [
       "['um', 'dois', 'três']"
      ]
     },
     "execution_count": 48,
     "metadata": {},
     "output_type": "execute_result"
    }
   ],
   "source": [
    "s = \"um dois três\"\n",
    "s.split()"
   ]
  },
  {
   "cell_type": "markdown",
   "metadata": {},
   "source": [
    "## [EXERCÍCIOS] Strings\n",
    "\n",
    "1) Extraia a substring \"Santa Catarina\" da seguinte String:"
   ]
  },
  {
   "cell_type": "code",
   "execution_count": 49,
   "metadata": {},
   "outputs": [],
   "source": [
    "s = \"Católica de Santa Catarina!\""
   ]
  },
  {
   "cell_type": "code",
   "execution_count": null,
   "metadata": {},
   "outputs": [],
   "source": []
  },
  {
   "cell_type": "markdown",
   "metadata": {},
   "source": [
    "2) Qual é o resultado de aplicar o seguinte *slicing* `[::-1]`:"
   ]
  },
  {
   "cell_type": "code",
   "execution_count": null,
   "metadata": {},
   "outputs": [],
   "source": []
  },
  {
   "cell_type": "markdown",
   "metadata": {},
   "source": [
    "# LISTAS"
   ]
  },
  {
   "cell_type": "markdown",
   "metadata": {},
   "source": [
    "Até agora vimos tipos de dados onde as variáveis associadas representam apenas um valor. Com as listas podemos armazenar uma coleção de valores em uma única variável. As listas também podem conter qualquer tipo de dados e também dados de vários tipos simultaneamente.\n",
    "\n",
    "A forma como lidamos com as listas é muito semelhante em como ligamos com as strings, exceto que cada elemento pode ser de qualquer tipo. Nas strings os elementos podem ser apenas caracteres.\n",
    "\n",
    "A sintaxe para criar listas em Python é `[a, b, c]`:"
   ]
  },
  {
   "cell_type": "code",
   "execution_count": 55,
   "metadata": {
    "collapsed": false
   },
   "outputs": [
    {
     "name": "stdout",
     "output_type": "stream",
     "text": [
      "<class 'list'>\n",
      "['china', 23120, 'usa', 19360, 'india', 9447, 'japan', 5405, 'germany', 4150, 'russia', 4000, 'indonesia', 3243, 'brazil', 3219]\n"
     ]
    }
   ],
   "source": [
    "pib = [\"china\", 23120, \"usa\", 19360, \"india\", 9447, \"japan\", 5405, \"germany\", 4150, \"russia\", 4000, \"indonesia\", 3243, \"brazil\", 3219]\n",
    "print(type(pib))\n",
    "print(pib)"
   ]
  },
  {
   "cell_type": "markdown",
   "metadata": {},
   "source": [
    "A indexação começa em 0:"
   ]
  },
  {
   "cell_type": "code",
   "execution_count": 56,
   "metadata": {},
   "outputs": [
    {
     "data": {
      "text/plain": [
       "'china'"
      ]
     },
     "execution_count": 56,
     "metadata": {},
     "output_type": "execute_result"
    }
   ],
   "source": [
    "pib[0]"
   ]
  },
  {
   "cell_type": "markdown",
   "metadata": {},
   "source": [
    "Podemos usar as mesmas técnicas de *slicing* que usamos em strings para manipular listas:"
   ]
  },
  {
   "cell_type": "code",
   "execution_count": 54,
   "metadata": {
    "collapsed": false
   },
   "outputs": [
    {
     "name": "stdout",
     "output_type": "stream",
     "text": [
      "['china', 23120, 'usa', 19360, 'india', 9447, 'japan', 5405, 'germany', 4150, 'russia', 4000, 'indonesia', 3243, 'brazil', 3219]\n",
      "['usa', 19360]\n",
      "['china', 'usa', 'india', 'japan', 'germany', 'russia', 'indonesia', 'brazil']\n"
     ]
    }
   ],
   "source": [
    "print(pib)\n",
    "print(pib[2:4])\n",
    "print(pib[::2])"
   ]
  },
  {
   "cell_type": "markdown",
   "metadata": {},
   "source": [
    "As listas do Python podem ser não homogêneas e arbitrariamente aninhadas:"
   ]
  },
  {
   "cell_type": "code",
   "execution_count": 58,
   "metadata": {
    "collapsed": false
   },
   "outputs": [
    {
     "data": {
      "text/plain": [
       "[['china', 23120],\n",
       " ['usa', 19360],\n",
       " ['india', 9447],\n",
       " ['japan', 5405],\n",
       " ['germany', 4150],\n",
       " ['russia', 4000],\n",
       " ['indonesia', 3243],\n",
       " ['brazil', 3219]]"
      ]
     },
     "execution_count": 58,
     "metadata": {},
     "output_type": "execute_result"
    }
   ],
   "source": [
    "pib = [\n",
    "    [\"china\", 23120],\n",
    "    [\"usa\", 19360],\n",
    "    [\"india\", 9447],\n",
    "    [\"japan\", 5405],\n",
    "    [\"germany\", 4150],\n",
    "    [\"russia\", 4000],\n",
    "    [\"indonesia\", 3243],\n",
    "    [\"brazil\", 3219]\n",
    "]\n",
    "pib"
   ]
  },
  {
   "cell_type": "markdown",
   "metadata": {},
   "source": [
    "As listas desempenham um papel muito importante no Python. Por exemplo, eles são usados em loops e outras estruturas de controle de fluxo (discutidos abaixo). Existem várias funções convenientes para gerar listas de vários tipos, por exemplo, a função `range`:"
   ]
  },
  {
   "cell_type": "code",
   "execution_count": null,
   "metadata": {
    "collapsed": false
   },
   "outputs": [],
   "source": [
    "comeco = 10\n",
    "fim = 30\n",
    "passo = 2\n",
    "\n",
    "range(comeco, fim, passo)"
   ]
  },
  {
   "cell_type": "code",
   "execution_count": null,
   "metadata": {
    "collapsed": false
   },
   "outputs": [],
   "source": [
    "# Em Python 3 range gera um iterador, que pode ser convertido em uma lista usando 'list (...)'.\n",
    "list(range(comeco, fim, passo))"
   ]
  },
  {
   "cell_type": "code",
   "execution_count": null,
   "metadata": {
    "collapsed": false
   },
   "outputs": [],
   "source": [
    "list(range(-10, 10))"
   ]
  },
  {
   "cell_type": "code",
   "execution_count": null,
   "metadata": {
    "collapsed": false
   },
   "outputs": [],
   "source": [
    "s"
   ]
  },
  {
   "cell_type": "code",
   "execution_count": null,
   "metadata": {
    "collapsed": false
   },
   "outputs": [],
   "source": [
    "# converter uma string em uma lista por tipo casting:\n",
    "s2 = list(s)\n",
    "\n",
    "s2"
   ]
  },
  {
   "cell_type": "code",
   "execution_count": null,
   "metadata": {
    "collapsed": false
   },
   "outputs": [],
   "source": [
    "# ordenando listas\n",
    "s2.sort()\n",
    "\n",
    "print(s2)"
   ]
  },
  {
   "cell_type": "markdown",
   "metadata": {},
   "source": [
    "#### Adicionando, inserindo, modificando e removendo elementos de listas"
   ]
  },
  {
   "cell_type": "code",
   "execution_count": null,
   "metadata": {
    "collapsed": false
   },
   "outputs": [],
   "source": [
    "# crie uma lista vazia\n",
    "l = []\n",
    "\n",
    "# adicione elementos com `append`\n",
    "l.append(\"A\")\n",
    "l.append(\"d\")\n",
    "l.append(\"d\")\n",
    "\n",
    "print(l)"
   ]
  },
  {
   "cell_type": "markdown",
   "metadata": {},
   "source": [
    "Podemos modificar listas atribuindo novos valores a elementos na lista. No jargão técnico, as listas são *mutáveis*."
   ]
  },
  {
   "cell_type": "code",
   "execution_count": null,
   "metadata": {
    "collapsed": false
   },
   "outputs": [],
   "source": [
    "l[1] = \"p\"\n",
    "l[2] = \"p\"\n",
    "\n",
    "print(l)"
   ]
  },
  {
   "cell_type": "code",
   "execution_count": null,
   "metadata": {
    "collapsed": false
   },
   "outputs": [],
   "source": [
    "l[1:3] = [\"d\", \"d\"]\n",
    "\n",
    "print(l)"
   ]
  },
  {
   "cell_type": "markdown",
   "metadata": {},
   "source": [
    "Inserir um elemento em um índice específico usando `insert`"
   ]
  },
  {
   "cell_type": "code",
   "execution_count": null,
   "metadata": {
    "collapsed": false
   },
   "outputs": [],
   "source": [
    "l.insert(0, \"i\")\n",
    "l.insert(1, \"n\")\n",
    "l.insert(2, \"s\")\n",
    "l.insert(3, \"e\")\n",
    "l.insert(4, \"r\")\n",
    "l.insert(5, \"t\")\n",
    "\n",
    "print(l)"
   ]
  },
  {
   "cell_type": "markdown",
   "metadata": {},
   "source": [
    "Remover primeiro elemento com valor específico usando `remove`"
   ]
  },
  {
   "cell_type": "code",
   "execution_count": null,
   "metadata": {
    "collapsed": false
   },
   "outputs": [],
   "source": [
    "l.remove(\"A\")\n",
    "\n",
    "print(l)"
   ]
  },
  {
   "cell_type": "markdown",
   "metadata": {},
   "source": [
    "Remova um elemento em um local específico usando `del`:"
   ]
  },
  {
   "cell_type": "code",
   "execution_count": null,
   "metadata": {
    "collapsed": false
   },
   "outputs": [],
   "source": [
    "del l[7]\n",
    "del l[6]\n",
    "\n",
    "print(l)"
   ]
  },
  {
   "cell_type": "markdown",
   "metadata": {},
   "source": [
    "Veja `help (list)` para mais detalhes, ou leia a documentação online"
   ]
  },
  {
   "cell_type": "markdown",
   "metadata": {},
   "source": [
    "### Tuplas"
   ]
  },
  {
   "cell_type": "markdown",
   "metadata": {},
   "source": [
    "As tuplas são como listas, exceto que elas não podem ser modificadas depois de criadas, ou seja, são *imutáveis*.\n",
    "\n",
    "Em Python, as tuplas são criadas usando a sintaxe `(..., ..., ...)`, ou mesmo `..., ...`:"
   ]
  },
  {
   "cell_type": "code",
   "execution_count": null,
   "metadata": {
    "collapsed": false
   },
   "outputs": [],
   "source": [
    "ponto = (10, 20)\n",
    "\n",
    "print(ponto, type(ponto))"
   ]
  },
  {
   "cell_type": "code",
   "execution_count": null,
   "metadata": {
    "collapsed": false
   },
   "outputs": [],
   "source": [
    "ponto = 10, 20\n",
    "\n",
    "print(ponto, type(ponto))"
   ]
  },
  {
   "cell_type": "markdown",
   "metadata": {},
   "source": [
    "Podemos descompactar uma tupla atribuindo-a a uma lista de variáveis separadas por vírgula:"
   ]
  },
  {
   "cell_type": "code",
   "execution_count": null,
   "metadata": {
    "collapsed": false
   },
   "outputs": [],
   "source": [
    "x, y = ponto\n",
    "\n",
    "print(\"x =\", x)\n",
    "print(\"y =\", y)"
   ]
  },
  {
   "cell_type": "markdown",
   "metadata": {},
   "source": [
    "Se tentarmos atribuir um novo valor a um elemento em uma tupla, obtemos um erro:"
   ]
  },
  {
   "cell_type": "code",
   "execution_count": null,
   "metadata": {
    "collapsed": false
   },
   "outputs": [],
   "source": [
    "point[0] = 20"
   ]
  },
  {
   "cell_type": "markdown",
   "metadata": {},
   "source": [
    "### Dicionários"
   ]
  },
  {
   "cell_type": "markdown",
   "metadata": {},
   "source": [
    "Dicionários também são como listas, exceto que cada elemento é um par de valores-chave. A sintaxe dos dicionários é `{key1: value1, ...}`:"
   ]
  },
  {
   "cell_type": "code",
   "execution_count": null,
   "metadata": {
    "collapsed": false
   },
   "outputs": [],
   "source": [
    "parametros = {\"parametro1\" : 1.0,\n",
    "              \"parametro2\" : 2.0,\n",
    "              \"parametro3\" : 3.0,}\n",
    "\n",
    "print(type(parametros))\n",
    "print(parametros)"
   ]
  },
  {
   "cell_type": "code",
   "execution_count": null,
   "metadata": {
    "collapsed": false
   },
   "outputs": [],
   "source": [
    "print(\"parametro1 = \" + str(parametros[\"parametro1\"]))\n",
    "print(\"parametro2 = \" + str(parametros[\"parametro2\"]))\n",
    "print(\"parametro3 = \" + str(parametros[\"parametro3\"]))"
   ]
  },
  {
   "cell_type": "code",
   "execution_count": null,
   "metadata": {
    "collapsed": false
   },
   "outputs": [],
   "source": [
    "parametros[\"parametro1\"] = \"A\"\n",
    "parametros[\"parametro2\"] = \"B\"\n",
    "\n",
    "# adicione uma nova entrada\n",
    "parametros[\"parametro4\"] = \"D\"\n",
    "\n",
    "print(\"parametro1 = \" + str(parametros[\"parametro1\"]))\n",
    "print(\"parametro2 = \" + str(parametros[\"parametro2\"]))\n",
    "print(\"parametro3 = \" + str(parametros[\"parametro3\"]))\n",
    "print(\"parametro4 = \" + str(parametros[\"parametro4\"]))"
   ]
  },
  {
   "cell_type": "markdown",
   "metadata": {},
   "source": [
    "## Controle de fluxo"
   ]
  },
  {
   "cell_type": "markdown",
   "metadata": {},
   "source": [
    "### Condicionais: if, elif, else"
   ]
  },
  {
   "cell_type": "markdown",
   "metadata": {},
   "source": [
    "A sintaxe do Python para execução condicional de código usa as palavras-chave `if`, `elif` (else if), `else`:"
   ]
  },
  {
   "cell_type": "code",
   "execution_count": null,
   "metadata": {
    "collapsed": false
   },
   "outputs": [],
   "source": [
    "afirmacao1 = False\n",
    "afirmacao2 = False\n",
    "\n",
    "if afirmacao1:\n",
    "    print(\"afirmacao1 é True\")\n",
    "\n",
    "elif afirmacao2:\n",
    "    print(\"afirmacao2 é True\")\n",
    "    \n",
    "else:\n",
    "    print(\"afirmacao1 e afirmacao2 são False\")"
   ]
  },
  {
   "cell_type": "markdown",
   "metadata": {},
   "source": [
    "Pela primeira vez, encontramos aqui um aspecto peculiar e incomum da linguagem de programação Python: Os blocos de programa são definidos pelo seu nível de indentação\n",
    "Comparado ao código C equivalente:\n",
    "\n",
    "    if (afirmacao1)\n",
    "    {\n",
    "        printf(\"afirmacao1 é True\\n\");\n",
    "    }\n",
    "    else if (afirmacao2)\n",
    "    {\n",
    "        printf(\"afirmacao2 é True\\n\");\n",
    "    }\n",
    "    else\n",
    "    {\n",
    "        printf(\"afirmacao1 e afirmacao2 são False\\n\");\n",
    "    }\n",
    "\n",
    "Em blocos em C são definidos pelos braquetes incluídos `{e}`. E o nível de indentação (espaço em branco antes das instruções de código) não importa (completamente opcional).\n",
    "\n",
    "Mas no Python, a extensão de um bloco de código é definida pelo nível de indentação (geralmente uma tab ou quatro espaços em branco). Isso significa que temos que ter o cuidado de indentar nosso código corretamente, senão obteremos erros de sintaxe. "
   ]
  },
  {
   "cell_type": "markdown",
   "metadata": {},
   "source": [
    "#### Examples:"
   ]
  },
  {
   "cell_type": "code",
   "execution_count": null,
   "metadata": {
    "collapsed": false
   },
   "outputs": [],
   "source": [
    "afirmacao1 = afirmacao2 = True\n",
    "\n",
    "if afirmacao1:\n",
    "    if afirmacao2:\n",
    "        print(\"ambas afirmacao1 e afirmacao2 são True\")"
   ]
  },
  {
   "cell_type": "code",
   "execution_count": null,
   "metadata": {
    "collapsed": false
   },
   "outputs": [],
   "source": [
    "# Mal indentação!\n",
    "if afirmacao1:\n",
    "    if afirmacao2:\n",
    "    print(\"ambas afirmacao1 e afirmacao2 são True\") # esta linha não está devidamente indentada"
   ]
  },
  {
   "cell_type": "code",
   "execution_count": null,
   "metadata": {
    "collapsed": false
   },
   "outputs": [],
   "source": [
    "afirmacao1 = False \n",
    "\n",
    "if afirmacao1:\n",
    "    print(\"printado se afirmacao1 é True\")\n",
    "    \n",
    "    print(\"ainda dentro do bloco if\")"
   ]
  },
  {
   "cell_type": "code",
   "execution_count": null,
   "metadata": {
    "collapsed": false
   },
   "outputs": [],
   "source": [
    "if afirmacao1:\n",
    "    print(\"printado se afirmacao1 é True\")\n",
    "    \n",
    "print(\"agora fora do bloco if\")"
   ]
  },
  {
   "cell_type": "markdown",
   "metadata": {},
   "source": [
    "## Loops"
   ]
  },
  {
   "cell_type": "markdown",
   "metadata": {},
   "source": [
    "No Python, os loops podem ser programados de várias maneiras diferentes. O mais comum é o loop `for`, que é usado junto com objetos iteráveis, como listas. A sintaxe básica é:"
   ]
  },
  {
   "cell_type": "markdown",
   "metadata": {},
   "source": [
    "### **`for` loops**:"
   ]
  },
  {
   "cell_type": "code",
   "execution_count": null,
   "metadata": {
    "collapsed": false
   },
   "outputs": [],
   "source": [
    "for x in [1,2,3]:\n",
    "    print(x)"
   ]
  },
  {
   "cell_type": "markdown",
   "metadata": {},
   "source": [
    "O loop `for` itera sobre os elementos da lista fornecida e executa o bloco contendo uma vez para cada elemento. Qualquer tipo de lista pode ser usado no loop `for`. Por exemplo:"
   ]
  },
  {
   "cell_type": "code",
   "execution_count": null,
   "metadata": {
    "collapsed": false
   },
   "outputs": [],
   "source": [
    "for x in range(4): # por padrão o range começo no 0\n",
    "    print(x)"
   ]
  },
  {
   "cell_type": "markdown",
   "metadata": {},
   "source": [
    "Nota: `range(4)` não inclue o 4 !"
   ]
  },
  {
   "cell_type": "code",
   "execution_count": null,
   "metadata": {
    "collapsed": false
   },
   "outputs": [],
   "source": [
    "for x in range(-3,3):\n",
    "    print(x)"
   ]
  },
  {
   "cell_type": "code",
   "execution_count": null,
   "metadata": {
    "collapsed": false
   },
   "outputs": [],
   "source": [
    "for palavra in [\"computação\", \"científica\", \"com\", \"python\"]:\n",
    "    print(palavra)"
   ]
  },
  {
   "cell_type": "markdown",
   "metadata": {},
   "source": [
    "Para iterar os pares de valor-chave de um dicionário:"
   ]
  },
  {
   "cell_type": "code",
   "execution_count": null,
   "metadata": {
    "collapsed": false
   },
   "outputs": [],
   "source": [
    "for chave, valor in parametros.items():\n",
    "    print(chave + \" = \" + str(valor))"
   ]
  },
  {
   "cell_type": "markdown",
   "metadata": {},
   "source": [
    "Às vezes, é útil ter acesso aos índices dos valores ao iterar em uma lista. Nós podemos usar a função `enumerate` para isso:"
   ]
  },
  {
   "cell_type": "code",
   "execution_count": null,
   "metadata": {
    "collapsed": false
   },
   "outputs": [],
   "source": [
    "for idx, x in enumerate(range(-3,3)):\n",
    "    print(idx, x)"
   ]
  },
  {
   "cell_type": "markdown",
   "metadata": {},
   "source": [
    "### Compreensões de lista: Criando listas usando loops `for`:"
   ]
  },
  {
   "cell_type": "markdown",
   "metadata": {},
   "source": [
    "Uma maneira conveniente e compacta de inicializar listas:"
   ]
  },
  {
   "cell_type": "code",
   "execution_count": null,
   "metadata": {
    "collapsed": false
   },
   "outputs": [],
   "source": [
    "l1 = [x**2 for x in range(0,5)]\n",
    "\n",
    "print(l1)"
   ]
  },
  {
   "cell_type": "markdown",
   "metadata": {},
   "source": [
    "### `while` loops:"
   ]
  },
  {
   "cell_type": "code",
   "execution_count": null,
   "metadata": {
    "collapsed": false
   },
   "outputs": [],
   "source": [
    "i = 0\n",
    "\n",
    "while i < 5:\n",
    "    print(i)\n",
    "    \n",
    "    i = i + 1\n",
    "    \n",
    "print(\"pronto\")"
   ]
  },
  {
   "cell_type": "markdown",
   "metadata": {},
   "source": [
    "Note que a instrução `print(\"pronto\")` não faz parte do corpo do loop `while` devido à diferença de indentação."
   ]
  },
  {
   "cell_type": "markdown",
   "metadata": {},
   "source": [
    "## Funções"
   ]
  },
  {
   "cell_type": "markdown",
   "metadata": {},
   "source": [
    "Uma função em Python é definida usando a palavra-chave `def`, seguida por um nome de função, uma assinatura entre parênteses `()` e dois pontos `:`. O código a seguir, com um nível adicional de indentação, é o corpo da função."
   ]
  },
  {
   "cell_type": "code",
   "execution_count": null,
   "metadata": {
    "collapsed": false
   },
   "outputs": [],
   "source": [
    "def func0():   \n",
    "    print(\"teste\")"
   ]
  },
  {
   "cell_type": "code",
   "execution_count": null,
   "metadata": {
    "collapsed": false
   },
   "outputs": [],
   "source": [
    "func0()"
   ]
  },
  {
   "cell_type": "markdown",
   "metadata": {},
   "source": [
    "Opcionalmente, mas altamente recomendado, podemos definir o chamado \"docstring\", que é uma descrição do propósito e comportamento das funções. A docstring deve seguir diretamente após a definição da função, antes do código no corpo da função."
   ]
  },
  {
   "cell_type": "code",
   "execution_count": null,
   "metadata": {
    "collapsed": false
   },
   "outputs": [],
   "source": [
    "def func1(s):\n",
    "    \"\"\"\n",
    "    Imprima uma string 's' e diga quantos caracteres ela possui\n",
    "    \"\"\"\n",
    "    \n",
    "    print(s + \" tem \" + str(len(s)) + \" carateres\")"
   ]
  },
  {
   "cell_type": "code",
   "execution_count": null,
   "metadata": {
    "collapsed": false
   },
   "outputs": [],
   "source": [
    "help(func1)"
   ]
  },
  {
   "cell_type": "code",
   "execution_count": null,
   "metadata": {
    "collapsed": false
   },
   "outputs": [],
   "source": [
    "func1(\"teste\")"
   ]
  },
  {
   "cell_type": "markdown",
   "metadata": {},
   "source": [
    "Functions that returns a value use the `return` keyword:"
   ]
  },
  {
   "cell_type": "code",
   "execution_count": null,
   "metadata": {
    "collapsed": false
   },
   "outputs": [],
   "source": [
    "def quadrado(x):\n",
    "    \"\"\"\n",
    "    Returna x ao quadrado\n",
    "    \"\"\"\n",
    "    return x ** 2"
   ]
  },
  {
   "cell_type": "code",
   "execution_count": null,
   "metadata": {
    "collapsed": false
   },
   "outputs": [],
   "source": [
    "quadrado(4)"
   ]
  },
  {
   "cell_type": "markdown",
   "metadata": {},
   "source": [
    "Podemos retornar vários valores de uma função usando tuplas (veja acima):"
   ]
  },
  {
   "cell_type": "code",
   "execution_count": null,
   "metadata": {
    "collapsed": false
   },
   "outputs": [],
   "source": [
    "def elevados(x):\n",
    "    \"\"\"\n",
    "    Returna x elevado à vários números\n",
    "    \"\"\"\n",
    "    return x ** 2, x ** 3, x ** 4"
   ]
  },
  {
   "cell_type": "code",
   "execution_count": null,
   "metadata": {
    "collapsed": false
   },
   "outputs": [],
   "source": [
    "elevados(3)"
   ]
  },
  {
   "cell_type": "code",
   "execution_count": null,
   "metadata": {
    "collapsed": false
   },
   "outputs": [],
   "source": [
    "x2, x3, x4 = elevados(3)\n",
    "\n",
    "print(x3)"
   ]
  },
  {
   "cell_type": "markdown",
   "metadata": {},
   "source": [
    "### Argumentos padrões e keywords padrões"
   ]
  },
  {
   "cell_type": "markdown",
   "metadata": {},
   "source": [
    "Em uma definição de função, podemos fornecer valores padrão para os argumentos que a função usa:"
   ]
  },
  {
   "cell_type": "code",
   "execution_count": null,
   "metadata": {
    "collapsed": false
   },
   "outputs": [],
   "source": [
    "def minha_funcao(x, p=2, debug=False):\n",
    "    if debug:\n",
    "        print(\"avaliando minha_funcao para x = \" + str(x) + \" usando o exponente p = \" + str(p))\n",
    "    return x**p"
   ]
  },
  {
   "cell_type": "markdown",
   "metadata": {},
   "source": [
    "Se nós não fornecermos um valor do argumento `debug` ao chamar a função `minha_funcao`, o valor padrão é fornecido na definição da função:"
   ]
  },
  {
   "cell_type": "code",
   "execution_count": null,
   "metadata": {
    "collapsed": false
   },
   "outputs": [],
   "source": [
    "minha_funcao(5)"
   ]
  },
  {
   "cell_type": "code",
   "execution_count": null,
   "metadata": {
    "collapsed": false
   },
   "outputs": [],
   "source": [
    "minha_funcao(5, debug=True)"
   ]
  },
  {
   "cell_type": "markdown",
   "metadata": {},
   "source": [
    "Se listarmos explicitamente o nome dos argumentos nas chamadas de função, eles não precisam vir na mesma ordem que na definição da função. Isso é chamado de argumento *keyword* e é geralmente muito útil em funções que exigem muitos argumentos opcionais."
   ]
  },
  {
   "cell_type": "code",
   "execution_count": null,
   "metadata": {
    "collapsed": false
   },
   "outputs": [],
   "source": [
    "minha_funcao(p=3, debug=True, x=7)"
   ]
  },
  {
   "cell_type": "markdown",
   "metadata": {},
   "source": [
    "### Funções anônimas (função lambda)"
   ]
  },
  {
   "cell_type": "markdown",
   "metadata": {},
   "source": [
    "No Python também podemos criar funções an, usando anônimas palavra chave `lambda`:"
   ]
  },
  {
   "cell_type": "code",
   "execution_count": null,
   "metadata": {
    "collapsed": false
   },
   "outputs": [],
   "source": [
    "f1 = lambda x: x**2\n",
    "    \n",
    "# é equivalente a\n",
    "\n",
    "def f2(x):\n",
    "    return x**2"
   ]
  },
  {
   "cell_type": "code",
   "execution_count": null,
   "metadata": {
    "collapsed": false
   },
   "outputs": [],
   "source": [
    "f1(2), f2(2)"
   ]
  },
  {
   "cell_type": "markdown",
   "metadata": {},
   "source": [
    "Essa técnica é útil, por exemplo, quando queremos passar uma função simples como um argumento para outra função, assim:"
   ]
  },
  {
   "cell_type": "code",
   "execution_count": null,
   "metadata": {
    "collapsed": false
   },
   "outputs": [],
   "source": [
    "# map é uma função padrão do python \n",
    "map(lambda x: x**2, range(-3,4))"
   ]
  },
  {
   "cell_type": "code",
   "execution_count": null,
   "metadata": {
    "collapsed": false
   },
   "outputs": [],
   "source": [
    "# em python 3 podemos usar `list (...)` para converter o iterador em uma lista explícita\n",
    "list(map(lambda x: x**2, range(-3,4)))"
   ]
  },
  {
   "cell_type": "markdown",
   "metadata": {},
   "source": [
    "## Classes"
   ]
  },
  {
   "cell_type": "markdown",
   "metadata": {},
   "source": [
    "As classes são os principais recursos da programação orientada a objetos. Uma classe é uma estrutura para representar um objeto e as operações que podem ser executadas no objeto.\n",
    "\n",
    "No Python, uma classe pode conter *atributos* (variáveis) e *métodos* (funções).\n",
    "\n",
    "Uma classe é definida quase como uma função, mas usando a palavra-chave `class`, e a definição de classe geralmente contém um número de definições de método de classe (uma função em uma classe).\n",
    "\n",
    "* Cada método de classe deve ter um argumento `self` como seu primeiro argumento. Este objeto é uma auto-referência.\n",
    "\n",
    "* Alguns nomes de método de classe têm um significado especial, por exemplo:\n",
    "\n",
    "     * `__init__`: O nome do método que é invocado quando o objeto é criado pela primeira vez.\n",
    "     * `__str__`: Um método que é invocado quando é necessária uma representação em string da classe, como por exemplo, quando impressa.\n",
    "     * Existem muitos mais, consulte http://docs.python.org/2/reference/datamodel.html#special-method-names"
   ]
  },
  {
   "cell_type": "code",
   "execution_count": null,
   "metadata": {
    "collapsed": false
   },
   "outputs": [],
   "source": [
    "class Ponto:\n",
    "    \"\"\"\n",
    "    Classe simples para representar um ponto em um sistema de coordenadas cartesianas.\n",
    "    \"\"\"\n",
    "    \n",
    "    def __init__(self, x, y):\n",
    "        \"\"\"\n",
    "        Cria um novo Ponto em x, y.\n",
    "        \"\"\"\n",
    "        self.x = x\n",
    "        self.y = y\n",
    "        \n",
    "    def translate(self, dx, dy):\n",
    "        \"\"\"\n",
    "        Faz uma translação do ponto por dx e dy no sentido x e y.\n",
    "        \"\"\"\n",
    "        self.x += dx\n",
    "        self.y += dy\n",
    "        \n",
    "    def __str__(self):\n",
    "        return(\"Ponto em [%f, %f]\" % (self.x, self.y))"
   ]
  },
  {
   "cell_type": "markdown",
   "metadata": {},
   "source": [
    "Para criar uma nova instância da classe:"
   ]
  },
  {
   "cell_type": "code",
   "execution_count": null,
   "metadata": {
    "collapsed": false
   },
   "outputs": [],
   "source": [
    "p1 = Ponto(0, 0) # isso chamará o método __init__ na classe Ponto\n",
    "\n",
    "print(p1)        # isso chamará o método __str__"
   ]
  },
  {
   "cell_type": "markdown",
   "metadata": {},
   "source": [
    "Para chamar um método de classe na instância da classe `p`:"
   ]
  },
  {
   "cell_type": "code",
   "execution_count": null,
   "metadata": {
    "collapsed": false
   },
   "outputs": [],
   "source": [
    "p2 = Ponto(1, 1)\n",
    "\n",
    "p1.translate(0.25, 1.5)\n",
    "\n",
    "print(p1)\n",
    "print(p2)"
   ]
  },
  {
   "cell_type": "markdown",
   "metadata": {},
   "source": [
    "Observe que chamar métodos de classe pode modificar o estado dessa instância de classe específica, mas não afeta outras instâncias de classe ou quaisquer variáveis globais.\n",
    "\n",
    "Essa é uma das coisas boas do design orientado a objetos: códigos como funções e variáveis relacionadas são agrupados em entidades separadas e independentes."
   ]
  },
  {
   "cell_type": "markdown",
   "metadata": {},
   "source": [
    "## Módulos"
   ]
  },
  {
   "cell_type": "markdown",
   "metadata": {},
   "source": [
    "Um dos conceitos mais importantes em uma boa programação é reutilizar o código e evitar repetições.\n",
    "\n",
    "A ideia é escrever funções e classes com um propósito e escopo bem definidos, e reutilizá-las em vez de repetir códigos semelhantes em partes diferentes de um programa (programação modular). O resultado é geralmente que a capacidade de leitura e manutenção de um programa é bastante aprimorada. Na prática, isso significa que nossos programas têm menos bugs, são mais fáceis de estender e depurar/solucionar problemas.\n",
    "\n",
    "O Python suporta programação modular em diferentes níveis. Funções e classes são exemplos de ferramentas para programação modular de baixo nível. Os módulos Python são uma construção de programação modular de nível mais alto, onde podemos coletar variáveis, funções e classes relacionadas em um módulo. Um módulo python é definido em um arquivo python (com `.py` no final), e pode ser disponibilizado para outros módulos e programas Python usando a instrução de importação.\n",
    "\n",
    "Considere o seguinte exemplo: o arquivo `meu_modulo.py` contém implementações de exemplo simples de uma variável, função e uma classe:"
   ]
  },
  {
   "cell_type": "code",
   "execution_count": null,
   "metadata": {
    "collapsed": false
   },
   "outputs": [],
   "source": [
    "%%file meu_modulo.py\n",
    "\"\"\"\n",
    "Exemplo de um módulo python. Contém uma variável chamada minha_variavel,\n",
    "uma função chamada minha_funcao e uma classe chamada MinhaClasse.\n",
    "\"\"\"\n",
    "\n",
    "minha_variavel = 0\n",
    "\n",
    "def minha_funcao():\n",
    "    \"\"\"\n",
    "    Função examplo\n",
    "    \"\"\"\n",
    "    return minha_variavel\n",
    "    \n",
    "class MinhaClasse:\n",
    "    \"\"\"\n",
    "    Classe exemplo.\n",
    "    \"\"\"\n",
    "\n",
    "    def __init__(self):\n",
    "        self.variavel = minha_variavel\n",
    "        \n",
    "    def define_variavel(self, novo_valor):\n",
    "        \"\"\"\n",
    "        Define self.varivael para o novo valor\n",
    "        \"\"\"\n",
    "        self.variavel = novo_valor\n",
    "        \n",
    "    def pega_variavel(self):\n",
    "        return self.variavel"
   ]
  },
  {
   "cell_type": "markdown",
   "metadata": {},
   "source": [
    "Podemos importar o módulo `meu_modulo` para o nosso programa em Python usando` import`:"
   ]
  },
  {
   "cell_type": "markdown",
   "metadata": {},
   "source": [
    "Use `help(module)` to get a summary of what the module provides:"
   ]
  },
  {
   "cell_type": "code",
   "execution_count": null,
   "metadata": {
    "collapsed": true
   },
   "outputs": [],
   "source": [
    "import meu_modulo"
   ]
  },
  {
   "cell_type": "code",
   "execution_count": null,
   "metadata": {
    "collapsed": false,
    "scrolled": true
   },
   "outputs": [],
   "source": [
    "help(meu_modulo)"
   ]
  },
  {
   "cell_type": "code",
   "execution_count": null,
   "metadata": {
    "collapsed": false
   },
   "outputs": [],
   "source": [
    "meu_modulo.minha_variavel"
   ]
  },
  {
   "cell_type": "code",
   "execution_count": null,
   "metadata": {
    "collapsed": false
   },
   "outputs": [],
   "source": [
    "meu_modulo.minha_funcao() "
   ]
  },
  {
   "cell_type": "code",
   "execution_count": null,
   "metadata": {
    "collapsed": false
   },
   "outputs": [],
   "source": [
    "minha_classe = meu_modulo.MinhaClasse() \n",
    "minha_classe.define_variavel(10)\n",
    "minha_classe.pega_variavel()"
   ]
  },
  {
   "cell_type": "markdown",
   "metadata": {},
   "source": [
    "## Exceções"
   ]
  },
  {
   "cell_type": "markdown",
   "metadata": {},
   "source": [
    "No Python, os erros são gerenciados com uma construção de linguagem especial chamada \"Exceptions\". Quando erros ocorrem, exceções podem ser levantadas, o que interrompe o fluxo normal do programa e o retorno a algum outro lugar no código onde a instrução `try-except` mais próxima é definida.\n",
    "\n",
    "Para gerar uma exceção, podemos usar a instrução `raise`, que recebe um argumento que deve ser uma instância da classe `BaseException` ou uma classe derivada dela."
   ]
  },
  {
   "cell_type": "code",
   "execution_count": null,
   "metadata": {
    "collapsed": false
   },
   "outputs": [],
   "source": [
    "raise Exception(\"descrição do erro\")"
   ]
  },
  {
   "cell_type": "markdown",
   "metadata": {},
   "source": [
    "Um uso típico de exceções é abortar funções quando ocorre alguma condição de erro, por exemplo:\n",
    "\n",
    "    def minha_funcao(argumentos):\n",
    "    \n",
    "        if not verifica(argumentos):\n",
    "            raise Exception(\"Argumentos inválidos\")\n",
    "        \n",
    "        # resto do código vai aqui"
   ]
  },
  {
   "cell_type": "markdown",
   "metadata": {},
   "source": [
    "Para capturar os erros que são gerados por funções e métodos de classe, ou pelo próprio interpretador Python, use as instruções `try` e `except`:\n",
    "\n",
    "    try:\n",
    "        # código normal vai aqui\n",
    "    except:\n",
    "        # código para tratamento de erros vai aqui\n",
    "        # este código não é executado a menos que o código\n",
    "        # acima gerou um erro\n",
    "\n",
    "Por exemplo:"
   ]
  },
  {
   "cell_type": "code",
   "execution_count": null,
   "metadata": {
    "collapsed": false
   },
   "outputs": [],
   "source": [
    "try:\n",
    "    print(\"teste\")\n",
    "    # gera um erro: a variável teste não é definida\n",
    "    print(teste)\n",
    "except:\n",
    "    print(\"Pegou uma exceção\")"
   ]
  },
  {
   "cell_type": "markdown",
   "metadata": {},
   "source": [
    "Para obter informações sobre o erro, podemos acessar a instância da classe `Exception` que descreve a exceção usando, por exemplo:\n",
    "\n",
    "    except Exception as e:"
   ]
  },
  {
   "cell_type": "code",
   "execution_count": null,
   "metadata": {
    "collapsed": false
   },
   "outputs": [],
   "source": [
    "try:\n",
    "    print(\"teste\")\n",
    "    # gera um erro: a variável teste não é definida\n",
    "    print(teste)\n",
    "except Exception as e:\n",
    "    print(\"Pegou uma exceção:\" + str(e))"
   ]
  },
  {
   "cell_type": "markdown",
   "metadata": {},
   "source": [
    "## Arquivos de programas em Python"
   ]
  },
  {
   "cell_type": "markdown",
   "metadata": {},
   "source": [
    "O código Python é normalmente armazenado em arquivos de texto usando a extensão `.py`:\n",
    "\n",
    "```sh\n",
    "meu_programa.py\n",
    "```\n",
    "\n",
    "Cada linha em um arquivo contendo um programa Python é considerada uma instrução, ou parte dela. A única exceção são as linhas de comentário, que começam com o caractere `#`. Linhas de comentário são geralmente ignoradas pelo interpretador Python.\n",
    "\n",
    "Para executar um programa em Python a partir da linha de comando devemos usar a seguinte chamada:\n",
    "\n",
    "```sh\n",
    "$ python meu_programa.py\n",
    "```\n",
    "\n",
    "Em sistemas UNIX/LINUX/MAC, é comum definir o caminho para o interpretador na primeira linha do programa:\n",
    "\n",
    "```sh\n",
    "#!/usr/bin/env python\n",
    "```\n",
    "\n",
    "Dessa forma, podemos executar o programa da seguinte maneira\n",
    "\n",
    "```sh\n",
    "$ meu_programa.py\n",
    "```"
   ]
  },
  {
   "cell_type": "markdown",
   "metadata": {},
   "source": [
    "## Further reading"
   ]
  },
  {
   "cell_type": "markdown",
   "metadata": {},
   "source": [
    "* http://www.python.org - A página web oficial da linguagem de programação Python.\n",
    "* http://www.python.org/dev/peps/pep-0008 - Guia de estilo para programação em Python. Altamente recomendado.\n",
    "* http://www.greenteapress.com/thinkpython/ - Um livro grátis sobre programação em Python.\n",
    "* [Referência Essencial do Python](http://www.amazon.com/Python-Essential-Reference-4th-Edition/dp/0672329786) - Um bom livro de referência sobre programação em Python."
   ]
  },
  {
   "cell_type": "markdown",
   "metadata": {},
   "source": [
    "Baseado no curso [Python Lectures](http://github.com/jrjohansson/scientific-python-lectures) de J.R. Johansson (jrjohansson at gmail.com)."
   ]
  }
 ],
 "metadata": {
  "anaconda-cloud": {},
  "kernelspec": {
   "display_name": "Python 3",
   "language": "python",
   "name": "python3"
  },
  "language_info": {
   "codemirror_mode": {
    "name": "ipython",
    "version": 3
   },
   "file_extension": ".py",
   "mimetype": "text/x-python",
   "name": "python",
   "nbconvert_exporter": "python",
   "pygments_lexer": "ipython3",
   "version": "3.6.2"
  }
 },
 "nbformat": 4,
 "nbformat_minor": 2
}
