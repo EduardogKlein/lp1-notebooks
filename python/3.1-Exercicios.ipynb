{
 "cells": [
  {
   "cell_type": "markdown",
   "metadata": {},
   "source": [
    "# EXERCÍCIOS\n",
    "\n",
    "Escolha um projeto grande escrito em Python no [Github](https://www.github.com). Tente identificar dois exemplos dos princípios do SOLID implementados neste projeto. Documente eles.\n",
    "\n",
    "Procure agora por exemplos de violação dos princípios SOLID, DRY, KISS, YAGNI, etc. Documente eles. Como você resolveria estas violações? Por que você acha que o código foi implementado deste jeito? Você consegue submeter um PR com uma refatoração do código?"
   ]
  },
  {
   "cell_type": "code",
   "execution_count": null,
   "metadata": {},
   "outputs": [],
   "source": []
  }
 ],
 "metadata": {
  "kernelspec": {
   "display_name": "Python 3",
   "language": "python",
   "name": "python3"
  },
  "language_info": {
   "codemirror_mode": {
    "name": "ipython",
    "version": 3
   },
   "file_extension": ".py",
   "mimetype": "text/x-python",
   "name": "python",
   "nbconvert_exporter": "python",
   "pygments_lexer": "ipython3",
   "version": "3.6.2"
  }
 },
 "nbformat": 4,
 "nbformat_minor": 2
}
