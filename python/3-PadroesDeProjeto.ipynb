{
 "cells": [
  {
   "cell_type": "markdown",
   "metadata": {},
   "source": [
    "# PADRÕES DE PROJETO EM PYTHON\n",
    "\n",
    "[![Google Colab](https://img.shields.io/badge/launch_google_colab-introducao_python-yellow.svg)](https://colab.research.google.com/github/catolicasc-joinville/lp1-notebooks/blob/master/python/3-PadroesDeProjeto.ipynb)\n",
    "\n",
    "[https://colab.research.google.com/github/catolicasc-joinville/lp1-notebooks/blob/master/python/3-PadroesDeProjeto.ipynb](https://colab.research.google.com/github/catolicasc-joinville/lp1-notebooks/blob/master/python/3-PadroesDeProjeto.ipynb)\n",
    "\n",
    "\n",
    "Os [padrões de projeto](https://pt.wikipedia.org/wiki/Padr%C3%A3o_de_projeto_de_software) foram documentados pelo GoF ([Gang of Four](https://en.wikipedia.org/wiki/Design_Patterns)). Inicialmente foram descobertos 23 padrões de projeto com foco na linguagem Java. Alguns desses padrões são implementados em nível de linguagem no Python.\n",
    "\n",
    "Os padrões podem ser divididos em 3 categorias.\n",
    "\n",
    "**Padrões de criação**: funcionam com base no modo como os objetos podem ser criados isolando os detalhes da criação dos objetos. O código é independente do tipo do objeto a ser criado.\n",
    "\n",
    "**Padrões estruturais**: determinam o design da estrutura de objetos e classes para que estes possam ser compostos. O foco está em simplificar a estrutura e identificar o relacionamento entre classes e objetos. Está focado na herança e composição de classes.\n",
    "\n",
    "**Padrões comportamentais**: estão preocupados com a interação entre os objetos e suas responsabilidades. Os objetos deve ser capazes de interagir e, mesmo assim, devem ter baixo acoplamento.\n",
    "\n",
    "## PADRÃO SINGLETON\n",
    "\n",
    "Este padrão proporciona uma forma de ter um e somente um objeto de um determinado tipo, além de disponibilizar um pont ode acesso global. Este tipo de padrão é geralmente usado em casos como logging, operações do banco de dados, spoolers de impressão e muitos outros cenários em que seja necessário que haja apenas uma instância disponível para toda a aplicação a fim de evitar requisições conflitantes para o mesmo recurso.\n",
    "\n",
    "Em resumo, este padrão:\n",
    "* Garante que um e somente um objeto da classe será criado\n",
    "* Oferece um ponto de acesso para um objeto que seja global\n",
    "* Controla o acesso concorrente a recursos compartilhados\n",
    "\n",
    "A seguir o diagrama UML de uma implementação do padrão Singleton:\n",
    "\n",
    "![design-patterns-singleton](assets/design_patterns/design-patterns-singleton.png)\n",
    "\n",
    "Nesta implementação deixamos o construtor privado e criamos um método estático que faz a inicialização do objeto. Desta forma, um objeto é criado na primeira chamada e a classe devolverá o mesmo objeto a partir daí.\n",
    "\n",
    "Em Python:"
   ]
  },
  {
   "cell_type": "code",
   "execution_count": 12,
   "metadata": {},
   "outputs": [
    {
     "name": "stdout",
     "output_type": "stream",
     "text": [
      "<__main__.Singleton object at 0x10a97f588>\n",
      "<__main__.Singleton object at 0x10a97f588>\n"
     ]
    }
   ],
   "source": [
    "class Singleton:\n",
    "    def __new__(cls):\n",
    "        if not hasattr(cls, 'instance'):\n",
    "            cls.instance = super().__new__(cls)\n",
    "        return cls.instance\n",
    "\n",
    "s1 = Singleton()\n",
    "s2 = Singleton()\n",
    "print(s1)\n",
    "print(s2)"
   ]
  },
  {
   "cell_type": "markdown",
   "metadata": {},
   "source": [
    "Repare que o endereço de memória nos dois casos é o mesmo.\n",
    "\n",
    "Em Python o método `__new__` é responsável por instanciar objetos, por isso sobrescrevemos ele para controlar a criação dos objetos garantindo que apenas um seja instanciado. O métodod `hasattr` é usado para saber se o objeto contém uma determinada propriedade, se ainda não tiver uma instância, criamos uma, se não, retornamos.\n",
    "\n",
    "Podemos ainda implementar este padrão usando metaclasses. Metaclasse é uma classe de outra classe, o que isgnifica que a classe é uma instância de sua metaclasse. Como a metaclasse tem mais controle sobre a criação da classe e a instanciação de objetos, ela pode ser usada para criar Singletons."
   ]
  },
  {
   "cell_type": "code",
   "execution_count": 13,
   "metadata": {},
   "outputs": [
    {
     "name": "stdout",
     "output_type": "stream",
     "text": [
      "<__main__.Logger object at 0x10a990278>\n",
      "<__main__.Logger object at 0x10a990278>\n"
     ]
    }
   ],
   "source": [
    "class Singleton(type):\n",
    "    _instances = {}\n",
    "        \n",
    "    def __call__(cls, *args, **kwargs):\n",
    "        if cls not in cls._instances:\n",
    "            cls._instances[cls] = super().__call__(*args, **kwargs)\n",
    "        return cls._instances[cls]\n",
    "\n",
    "\n",
    "class Logger(metaclass=Singleton):\n",
    "    def log(self, message):\n",
    "        print(f\"[LOG] {message}\")\n",
    "\n",
    "\n",
    "logger1 = Logger()\n",
    "logger2 = Logger()\n",
    "print(logger1)\n",
    "print(logger2)"
   ]
  },
  {
   "cell_type": "markdown",
   "metadata": {},
   "source": [
    "Desta forma teremos uma classe do tipo `Singleton` que podemos usar para extender todas as classes que queremos usar com este padrão."
   ]
  },
  {
   "cell_type": "markdown",
   "metadata": {},
   "source": [
    "## PADRÃO FACTORY\n",
    "\n",
    "Factory refere-se a uma classe responsável por criar objetos de outros tipos. Geralmente, a classe que atua como uma Factory tem um objeto e métodos associados a ela. O cliente chama esse método com determinados parâmetros e os objetos dos tipos desejados são criados e devolvidos ao cliente.\n",
    "\n",
    "Este padrão nos oferece:\n",
    "* Baixo acoplamento. A criação de um objeto pode ser independente da implementação da classe\n",
    "* O cliente não precisa conhecer a classe que cria o objeto, que, por sua vez, é utilizado pelo cliente. É necessário conhecer apenas a interface, os métodos e os parâmetros que devem ser passados\n",
    "* Podemos adicionar novas classes que podem ser retornadas por uma Factory sem alterar a implementação do cliente\n",
    "\n",
    "\n",
    "\n",
    "A seguir o diagrama UML de uma implementação do padrão Singleton:\n",
    "\n",
    "![design-patterns-factory](assets/design_patterns/design-patterns-factory.png)\n",
    "\n",
    "Em Python:"
   ]
  },
  {
   "cell_type": "code",
   "execution_count": 59,
   "metadata": {},
   "outputs": [
    {
     "name": "stdout",
     "output_type": "stream",
     "text": [
      "Circle area = 78.53981633974483\n",
      "Rectangle area = 50\n"
     ]
    }
   ],
   "source": [
    "import math\n",
    "\n",
    "class Shape:\n",
    "    @staticmethod\n",
    "    def factory(type, *args):\n",
    "        if type not in [subclass.__name__ for subclass in Shape.__subclasses__()]:\n",
    "            raise ValueError(f\"Class {type} not implemented.\")\n",
    "        formated_args = ', '.join([str(arg) for arg in args])\n",
    "        return eval(type + f\"({formated_args})\")\n",
    "\n",
    "    def area(self):\n",
    "        raise NotImplementedError\n",
    "    \n",
    "    def __str__(self):\n",
    "        return f\"{type(self).__name__} area = {self.area()}\"\n",
    "\n",
    "class Circle(Shape):\n",
    "    def __init__(self, radius):\n",
    "        self.radius = radius\n",
    "\n",
    "    def area(self):\n",
    "        return (self.radius ** 2) * math.pi\n",
    "\n",
    "    \n",
    "class Rectangle(Shape):\n",
    "    def __init__(self, x, y):\n",
    "        self.x = x\n",
    "        self.y = y\n",
    "\n",
    "    def area(self):\n",
    "        return self.x * self.y\n",
    "\n",
    "shapes = [\n",
    "    Shape.factory(\"Circle\", 5),\n",
    "    Shape.factory(\"Rectangle\", 10, 5)\n",
    "]\n",
    " \n",
    "for shape in shapes:\n",
    "    print(shape)"
   ]
  },
  {
   "cell_type": "code",
   "execution_count": null,
   "metadata": {},
   "outputs": [],
   "source": []
  }
 ],
 "metadata": {
  "kernelspec": {
   "display_name": "Python 3",
   "language": "python",
   "name": "python3"
  },
  "language_info": {
   "codemirror_mode": {
    "name": "ipython",
    "version": 3
   },
   "file_extension": ".py",
   "mimetype": "text/x-python",
   "name": "python",
   "nbconvert_exporter": "python",
   "pygments_lexer": "ipython3",
   "version": "3.6.2"
  }
 },
 "nbformat": 4,
 "nbformat_minor": 2
}
